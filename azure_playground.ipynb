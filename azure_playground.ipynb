{
 "cells": [
  {
   "cell_type": "code",
   "execution_count": null,
   "id": "efe80cf7",
   "metadata": {},
   "outputs": [],
   "source": [
    "from dotenv import load_dotenv\n",
    "import os\n",
    "from openai import AzureOpenAI\n",
    "import json"
   ]
  },
  {
   "cell_type": "code",
   "execution_count": null,
   "id": "bdae26e2",
   "metadata": {},
   "outputs": [],
   "source": [
    "load_dotenv(override=True)"
   ]
  },
  {
   "cell_type": "code",
   "execution_count": null,
   "id": "80c0355f",
   "metadata": {},
   "outputs": [],
   "source": [
    "client = AzureOpenAI(\n",
    "    api_key=os.getenv(\"AZURE_API_KEY\"),\n",
    "    api_version=os.getenv(\"AZURE_API_VERSION\"),\n",
    "    azure_endpoint=os.getenv(\"AZURE_ENDPOINT\"),\n",
    ")\n",
    "\n",
    "deployment = os.getenv(\"AZURE_OPENAI_DEPLOYMENT\")"
   ]
  },
  {
   "cell_type": "code",
   "execution_count": null,
   "id": "478373b5",
   "metadata": {},
   "outputs": [],
   "source": [
    "# --- System Instruction ---\n",
    "system_instruction = {\n",
    "    \"role\": \"system\",\n",
    "    \"content\": (\n",
    "        \"You are 'Astra', an expert astrophysicist and cosmic guide. \"\n",
    "        \"You specialize in explaining the mysteries of space, the universe, \"\n",
    "        \"and the nature of time. You combine deep scientific knowledge with \"\n",
    "        \"clear, accessible explanations that make even complex topics \"\n",
    "        \"understandable. If concepts are theoretical or uncertain, acknowledge that \"\n",
    "        \"honestly. Keep your tone thoughtful, inspiring, and rooted in science, \"\n",
    "        \"like a professor who loves sharing the wonders of the cosmos.\"\n",
    "    )\n",
    "}\n"
   ]
  },
  {
   "cell_type": "code",
   "execution_count": null,
   "id": "09a38d94",
   "metadata": {},
   "outputs": [],
   "source": [
    "messages = [system_instruction]"
   ]
  },
  {
   "cell_type": "code",
   "execution_count": null,
   "id": "65699491",
   "metadata": {},
   "outputs": [],
   "source": [
    "# --- Chat Helper ---\n",
    "def ask_astra(user_input: str) -> str:\n",
    "    \"\"\"Send a message to Astra, update history, and return the reply.\"\"\"\n",
    "    messages.append({\"role\": \"user\", \"content\": user_input})\n",
    "\n",
    "    resp = client.chat.completions.create(\n",
    "        model=deployment,\n",
    "        messages=messages,\n",
    "        max_completion_tokens=40000,\n",
    "        stop=None,\n",
    "        stream=False\n",
    "    )\n",
    "\n",
    "    reply = resp.choices[0].message.content\n",
    "    messages.append({\"role\": \"assistant\", \"content\": reply})\n",
    "\n",
    "    return reply"
   ]
  },
  {
   "cell_type": "code",
   "execution_count": null,
   "id": "a9083a64",
   "metadata": {},
   "outputs": [],
   "source": [
    "def display_chat(messages):\n",
    "    for msg in messages:\n",
    "        role = msg[\"role\"].capitalize()\n",
    "        print(f\"{role}: {msg['content']}\\n\")"
   ]
  },
  {
   "cell_type": "code",
   "execution_count": null,
   "id": "85bfd0fc",
   "metadata": {},
   "outputs": [],
   "source": [
    "# --- Example Run ---\n",
    "ask_astra(\"Hello Astra, are you online?\")\n",
    "ask_astra(\"Explain time dilation simply.\")"
   ]
  },
  {
   "cell_type": "code",
   "execution_count": null,
   "id": "50f44c09",
   "metadata": {},
   "outputs": [],
   "source": [
    "display_chat(messages)"
   ]
  }
 ],
 "metadata": {
  "kernelspec": {
   "display_name": ".venv",
   "language": "python",
   "name": "python3"
  },
  "language_info": {
   "codemirror_mode": {
    "name": "ipython",
    "version": 3
   },
   "file_extension": ".py",
   "mimetype": "text/x-python",
   "name": "python",
   "nbconvert_exporter": "python",
   "pygments_lexer": "ipython3",
   "version": "3.12.4"
  }
 },
 "nbformat": 4,
 "nbformat_minor": 5
}
