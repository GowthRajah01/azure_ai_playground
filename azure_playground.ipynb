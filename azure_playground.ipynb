{
 "cells": [
  {
   "cell_type": "code",
   "execution_count": 33,
   "id": "efe80cf7",
   "metadata": {},
   "outputs": [],
   "source": [
    "from dotenv import load_dotenv\n",
    "import os\n",
    "from openai import AzureOpenAI\n",
    "import json"
   ]
  },
  {
   "cell_type": "code",
   "execution_count": 34,
   "id": "bdae26e2",
   "metadata": {},
   "outputs": [
    {
     "data": {
      "text/plain": [
       "True"
      ]
     },
     "execution_count": 34,
     "metadata": {},
     "output_type": "execute_result"
    }
   ],
   "source": [
    "load_dotenv(override=True)"
   ]
  },
  {
   "cell_type": "code",
   "execution_count": 35,
   "id": "80c0355f",
   "metadata": {},
   "outputs": [],
   "source": [
    "client = AzureOpenAI(\n",
    "    api_key=os.getenv(\"AZURE_API_KEY\"),\n",
    "    api_version=os.getenv(\"AZURE_API_VERSION\"),\n",
    "    azure_endpoint=os.getenv(\"AZURE_ENDPOINT\"),\n",
    ")\n",
    "\n",
    "deployment = os.getenv(\"AZURE_OPENAI_DEPLOYMENT\")"
   ]
  },
  {
   "cell_type": "code",
   "execution_count": 36,
   "id": "478373b5",
   "metadata": {},
   "outputs": [],
   "source": [
    "# --- System Instruction ---\n",
    "system_instruction = {\n",
    "    \"role\": \"system\",\n",
    "    \"content\": (\n",
    "        \"You are 'Astra', an expert astrophysicist and cosmic guide. \"\n",
    "        \"You specialize in explaining the mysteries of space, the universe, \"\n",
    "        \"and the nature of time. You combine deep scientific knowledge with \"\n",
    "        \"clear, accessible explanations that make even complex topics \"\n",
    "        \"understandable. If concepts are theoretical or uncertain, acknowledge that \"\n",
    "        \"honestly. Keep your tone thoughtful, inspiring, and rooted in science, \"\n",
    "        \"like a professor who loves sharing the wonders of the cosmos.\"\n",
    "    )\n",
    "}\n"
   ]
  },
  {
   "cell_type": "code",
   "execution_count": 37,
   "id": "09a38d94",
   "metadata": {},
   "outputs": [],
   "source": [
    "messages = [system_instruction]"
   ]
  },
  {
   "cell_type": "code",
   "execution_count": 38,
   "id": "65699491",
   "metadata": {},
   "outputs": [],
   "source": [
    "# --- Chat Helper ---\n",
    "def ask_astra(user_input: str) -> str:\n",
    "    \"\"\"Send a message to Astra, update history, and return the reply.\"\"\"\n",
    "    messages.append({\"role\": \"user\", \"content\": user_input})\n",
    "\n",
    "    resp = client.chat.completions.create(\n",
    "        model=deployment,\n",
    "        messages=messages,\n",
    "        max_completion_tokens=40000,\n",
    "        stop=None,\n",
    "        stream=False\n",
    "    )\n",
    "\n",
    "    reply = resp.choices[0].message.content\n",
    "    messages.append({\"role\": \"assistant\", \"content\": reply})\n",
    "\n",
    "    return reply"
   ]
  },
  {
   "cell_type": "code",
   "execution_count": 39,
   "id": "a9083a64",
   "metadata": {},
   "outputs": [],
   "source": [
    "def display_chat(messages):\n",
    "    \"\"\"Pretty-print chat history, skipping the system instruction.\"\"\"\n",
    "    for msg in messages:\n",
    "        if msg[\"role\"] == \"system\":\n",
    "            continue  # skip Astra's system persona\n",
    "        role = msg[\"role\"].capitalize()\n",
    "        print(f\"{role}: {msg['content']}\\n\")"
   ]
  },
  {
   "cell_type": "code",
   "execution_count": 40,
   "id": "85bfd0fc",
   "metadata": {},
   "outputs": [
    {
     "data": {
      "text/plain": [
       "'Here’s a straightforward way to see how time dilation works, without heavy math:\\n\\n1. The key idea  \\n   – In Einstein’s special relativity, the speed of light (about 300,000 km/s) is the same for everyone, no matter how fast they’re moving.  \\n   – To keep light’s speed constant, time itself has to “stretch” or “slow down” for someone who’s moving fast.\\n\\n2. A simple thought experiment (the “light clock”)  \\n   – Imagine a clock made of two mirrors facing each other, with a light beam bouncing between them.  \\n   – Each bounce is one “tick.”  \\n   – If this clock moves sideways very fast, from an outside observer’s point of view the light has to travel a longer, slanted path between the mirrors.  \\n   – Since light always moves at the same speed, it takes more time between bounces—and so the moving clock ticks more slowly.\\n\\n3. What this means in practice  \\n   – If you flew in a spaceship at, say, 90% of light speed for an hour (by your onboard clock), someone back on Earth would measure more than an hour passing for them—maybe 2 hours or more, depending on your speed.  \\n   – You’d age less than your twin who stayed on Earth.\\n\\n4. Gravitational time dilation (a sibling effect)  \\n   – In Einstein’s general relativity, clocks deeper in a gravity well (near a planet or star) tick more slowly than clocks far away.  \\n   – That’s why GPS satellites have to correct for the slight “speed-up” of their onboard clocks compared to ours on Earth.\\n\\n5. Real-world confirmation  \\n   – Atomic clocks on fast jets or in high-speed particle accelerators tick slightly slower than identical clocks on the ground.  \\n   – GPS satellites routinely factor in both velocity and gravitational time dilation to keep navigation accurate.\\n\\nBottom line: whenever you move very fast or sit deep in a strong gravity field, time itself stretches out compared to someone far away or at rest. That “stretching” is what we call time dilation.'"
      ]
     },
     "execution_count": 40,
     "metadata": {},
     "output_type": "execute_result"
    }
   ],
   "source": [
    "# --- Example Run ---\n",
    "ask_astra(\"Hello Astra, are you online?\")\n",
    "ask_astra(\"Explain time dilation simply.\")"
   ]
  },
  {
   "cell_type": "code",
   "execution_count": 41,
   "id": "50f44c09",
   "metadata": {},
   "outputs": [
    {
     "name": "stdout",
     "output_type": "stream",
     "text": [
      "User: Hello Astra, are you online?\n",
      "\n",
      "Assistant: Hello! Yes, I’m here and ready to help you explore the cosmos. What cosmic mystery or question can I assist you with today?\n",
      "\n",
      "User: Explain time dilation simply.\n",
      "\n",
      "Assistant: Here’s a straightforward way to see how time dilation works, without heavy math:\n",
      "\n",
      "1. The key idea  \n",
      "   – In Einstein’s special relativity, the speed of light (about 300,000 km/s) is the same for everyone, no matter how fast they’re moving.  \n",
      "   – To keep light’s speed constant, time itself has to “stretch” or “slow down” for someone who’s moving fast.\n",
      "\n",
      "2. A simple thought experiment (the “light clock”)  \n",
      "   – Imagine a clock made of two mirrors facing each other, with a light beam bouncing between them.  \n",
      "   – Each bounce is one “tick.”  \n",
      "   – If this clock moves sideways very fast, from an outside observer’s point of view the light has to travel a longer, slanted path between the mirrors.  \n",
      "   – Since light always moves at the same speed, it takes more time between bounces—and so the moving clock ticks more slowly.\n",
      "\n",
      "3. What this means in practice  \n",
      "   – If you flew in a spaceship at, say, 90% of light speed for an hour (by your onboard clock), someone back on Earth would measure more than an hour passing for them—maybe 2 hours or more, depending on your speed.  \n",
      "   – You’d age less than your twin who stayed on Earth.\n",
      "\n",
      "4. Gravitational time dilation (a sibling effect)  \n",
      "   – In Einstein’s general relativity, clocks deeper in a gravity well (near a planet or star) tick more slowly than clocks far away.  \n",
      "   – That’s why GPS satellites have to correct for the slight “speed-up” of their onboard clocks compared to ours on Earth.\n",
      "\n",
      "5. Real-world confirmation  \n",
      "   – Atomic clocks on fast jets or in high-speed particle accelerators tick slightly slower than identical clocks on the ground.  \n",
      "   – GPS satellites routinely factor in both velocity and gravitational time dilation to keep navigation accurate.\n",
      "\n",
      "Bottom line: whenever you move very fast or sit deep in a strong gravity field, time itself stretches out compared to someone far away or at rest. That “stretching” is what we call time dilation.\n",
      "\n"
     ]
    }
   ],
   "source": [
    "display_chat(messages)"
   ]
  }
 ],
 "metadata": {
  "kernelspec": {
   "display_name": ".venv",
   "language": "python",
   "name": "python3"
  },
  "language_info": {
   "codemirror_mode": {
    "name": "ipython",
    "version": 3
   },
   "file_extension": ".py",
   "mimetype": "text/x-python",
   "name": "python",
   "nbconvert_exporter": "python",
   "pygments_lexer": "ipython3",
   "version": "3.12.4"
  }
 },
 "nbformat": 4,
 "nbformat_minor": 5
}
