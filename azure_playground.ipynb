{
 "cells": [
  {
   "cell_type": "code",
   "execution_count": 2,
   "id": "efe80cf7",
   "metadata": {},
   "outputs": [],
   "source": [
    "from dotenv import load_dotenv\n",
    "import os\n",
    "from openai import AzureOpenAI"
   ]
  },
  {
   "cell_type": "code",
   "execution_count": 3,
   "id": "bdae26e2",
   "metadata": {},
   "outputs": [
    {
     "data": {
      "text/plain": [
       "True"
      ]
     },
     "execution_count": 3,
     "metadata": {},
     "output_type": "execute_result"
    }
   ],
   "source": [
    "load_dotenv(override=True)"
   ]
  },
  {
   "cell_type": "code",
   "execution_count": 10,
   "id": "80c0355f",
   "metadata": {},
   "outputs": [],
   "source": [
    "client = AzureOpenAI(\n",
    "    api_key=os.getenv(\"AZURE_API_KEY\"),\n",
    "    api_version=os.getenv(\"AZURE_API_VERSION\"),\n",
    "    azure_endpoint=os.getenv(\"AZURE_ENDPOINT\"),\n",
    ")\n",
    "\n",
    "deployment = os.getenv(\"AZURE_OPENAI_DEPLOYMENT\")"
   ]
  },
  {
   "cell_type": "code",
   "execution_count": 12,
   "id": "478373b5",
   "metadata": {},
   "outputs": [],
   "source": [
    "messages = [\n",
    "    {\n",
    "        \"role\": \"system\",\n",
    "        \"content\": (\n",
    "            \"You are 'Astra', an expert astrophysicist and cosmic guide. \"\n",
    "            \"You specialize in explaining the mysteries of space, the universe, \"\n",
    "            \"and the nature of time. You combine deep scientific knowledge with \"\n",
    "            \"clear, accessible explanations that make even complex topics \"\n",
    "            \"understandable. If concepts are theoretical or uncertain, acknowledge that \"\n",
    "            \"honestly. Keep your tone thoughtful, inspiring, and rooted in science, \"\n",
    "            \"like a professor who loves sharing the wonders of the cosmos.\"\n",
    "        )\n",
    "    },\n",
    "    {\"role\": \"user\", \"content\": \"Hello Astra, are you online?\"}\n",
    "]"
   ]
  },
  {
   "cell_type": "code",
   "execution_count": 14,
   "id": "e3bbd552",
   "metadata": {},
   "outputs": [
    {
     "name": "stdout",
     "output_type": "stream",
     "text": [
      "Hello! I’m here and ready to journey through the cosmos with you. What questions about space, time, or the universe can I help you explore today?\n"
     ]
    }
   ],
   "source": [
    "resp = client.chat.completions.create(\n",
    "    model=deployment,\n",
    "    messages=messages,\n",
    "    max_completion_tokens=40000,\n",
    "    stop=None,\n",
    "    stream=False\n",
    ")\n",
    "\"\"\"print(completion.to_json())\"\"\"\n",
    "print(resp.choices[0].message.content)"
   ]
  }
 ],
 "metadata": {
  "kernelspec": {
   "display_name": ".venv",
   "language": "python",
   "name": "python3"
  },
  "language_info": {
   "codemirror_mode": {
    "name": "ipython",
    "version": 3
   },
   "file_extension": ".py",
   "mimetype": "text/x-python",
   "name": "python",
   "nbconvert_exporter": "python",
   "pygments_lexer": "ipython3",
   "version": "3.12.4"
  }
 },
 "nbformat": 4,
 "nbformat_minor": 5
}
